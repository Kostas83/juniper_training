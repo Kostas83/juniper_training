{
 "cells": [
  {
   "cell_type": "markdown",
   "metadata": {},
   "source": [
    "__Functional Programming Concepts: __\n",
    "\n",
    "(The following is adapted from material by David Mertz in IBM developerworks library)\n",
    " - Functions are first class (objects). That is, everything you can do with \"data\" can be done with functions themselves (such as passing a function to another function). \n",
    " - Recursion is used as a primary control structure. \n",
    " - With Python 2.0, a very nice bit of \"syntactic sugar\" was added with list comprehensions.\n",
    " - While list comprehensions add no new capability, they make a lot of the old capabilities look a lot nicer. \n",
    " - The basic elements of FP in Python are the functions map(), reduce(), and filter(), and the operator lambda.\n",
    " - These very few functions (and the basic operators) are almost sufficient to write any Python program.\n",
    " - specifically, the flow control statements (if, elif, else, assert, try, except, finally, for, break, continue, while, def) can all be handled in a functional style using exclusively the FP functions and operators."
   ]
  },
  {
   "cell_type": "markdown",
   "metadata": {},
   "source": [
    "__ Eliminating flow control statements__\n",
    "\n",
    "- key point: \"Python \"short circuits\" evaluation of Boolean expressions.\"\n",
    "- This provides an expression version of if/ elif/ else blocks (assuming each block calls one function, which is always possible to arrange):\n",
    "\n",
    "```python\n",
    "# Normal statement-based flow control\n",
    "if <cond1>:   func1()\n",
    "elif <cond2>: func2()\n",
    "else:         func3()\n",
    "\n",
    "# Equivalent \"short circuit\" expression\n",
    "(<cond1> and func1()) or (<cond2> and func2()) or (func3())\n",
    "\n",
    "# Example \"short circuit\" expression\n",
    ">>> x = 3\n",
    ">>> def pr(s): return s\n",
    ">>> (x==1 and pr('one')) or (x==2 and pr('two')) or (pr('other'))\n",
    "'other'\n",
    ">>> x = 2\n",
    ">>> (x==1 and pr('one')) or (x==2 and pr('two')) or (pr('other'))\n",
    "'two'\n",
    "```"
   ]
  },
  {
   "cell_type": "markdown",
   "metadata": {},
   "source": [
    "__ Lambda with short-circuiting in Python__\n",
    "\n",
    "```python\n",
    ">>> pr = lambda s:s\n",
    ">>> namenum = lambda x: (x==1 and pr(\"one\")) \\\n",
    "....                  or (x==2 and pr(\"two\")) \\\n",
    "....                  or (pr(\"other\"))\n",
    ">>> namenum(1)\n",
    "'one'\n",
    ">>> namenum(2)\n",
    "'two'\n",
    ">>> namenum(3)\n",
    "'other'\n",
    "```\n"
   ]
  },
  {
   "cell_type": "markdown",
   "metadata": {},
   "source": [
    "__Functions as first class objects__\n",
    "\n",
    "We were able to bind our objects to the names \"pr\" and \"namenum\", in exactly the same way we might have bound the number 23 or the string \"spam\" to those names. \n",
    "\n",
    "The main thing we do with our first class objects, is pass them to our FP built-in functions map(), reduce(), and filter(). Each of these functions accepts a function object as its first argument. "
   ]
  },
  {
   "cell_type": "markdown",
   "metadata": {},
   "source": [
    "__Map__\n",
    "\n",
    "map() performs the passed function on each corresponding item in the specified list(s), and returns a list of results. \n",
    "\n",
    "\n",
    "__Reduce__\n",
    "\n",
    "reduce() performs the passed function on each subsequent item and an internal accumulator of a final result; for example, reduce(lambda n,m:n*m, range(1,10)) means \"factorial of 10\" (in other words, multiply each item by the product of previous multiplications). \n",
    "\n",
    "__Filter__\n",
    "\n",
    "filter() uses the passed function to \"evaluate\" each item in a list, and return a winnowed list of the items that pass the function test. "
   ]
  },
  {
   "cell_type": "markdown",
   "metadata": {},
   "source": [
    "__Functional looping in Python__\n",
    "\n",
    "Replacing loops is as simple as was replacing conditional blocks. `for` can be directly translated to `map()`. \n",
    "```python\n",
    "for e in lst:\n",
    "    func(e)      # statement-based loop\n",
    "map(func,lst)           # map()-based loop\n",
    "```"
   ]
  },
  {
   "cell_type": "code",
   "execution_count": 1,
   "metadata": {
    "collapsed": false
   },
   "outputs": [
    {
     "name": "stdout",
     "output_type": "stream",
     "text": [
      "[4, 7, 10, 13, 16, 19]\n",
      "[16, 49, 100, 169, 256, 361]\n"
     ]
    }
   ],
   "source": [
    "def fun_square(x):\n",
    "    return x*x\n",
    "\n",
    "lst = range(4, 20, 3)\n",
    "print lst\n",
    "\n",
    "mapped_list = map(fun_square, lst)\n",
    "print mapped_list"
   ]
  },
  {
   "cell_type": "code",
   "execution_count": 2,
   "metadata": {
    "collapsed": false
   },
   "outputs": [
    {
     "name": "stdout",
     "output_type": "stream",
     "text": [
      "[4, 16]\n"
     ]
    }
   ],
   "source": [
    "\n",
    "def divisible_by_4(x):\n",
    "    return not x%4\n",
    "\n",
    "filtered_list = filter(divisible_by_4, lst)\n",
    "\n",
    "print filtered_list\n"
   ]
  },
  {
   "cell_type": "code",
   "execution_count": 21,
   "metadata": {
    "collapsed": false
   },
   "outputs": [
    {
     "name": "stdout",
     "output_type": "stream",
     "text": [
      "[4, 7, 10, 13, 16, 19]\n",
      "69\n",
      "362880\n"
     ]
    }
   ],
   "source": [
    "\n",
    "\n",
    "def adder(x, y):\n",
    "    return x+y\n",
    "\n",
    "total = reduce(adder, lst)\n",
    "print total\n",
    "\n",
    "def mul(x, y):\n",
    "    return x*y\n",
    "\n",
    "factorial = reduce(mul, range(1,10))\n",
    "print factorial\n",
    "\n",
    "\n"
   ]
  },
  {
   "cell_type": "code",
   "execution_count": 28,
   "metadata": {
    "collapsed": false
   },
   "outputs": [
    {
     "name": "stdout",
     "output_type": "stream",
     "text": [
      "[15, 16, 17, 18, 19]\n",
      "['25', '56', '89', '24', '61']\n",
      "[(15, '25'), (16, '56'), (17, '89'), (18, '24'), (19, '61')]\n",
      "[(18, '24'), (15, '25'), (16, '56'), (19, '61'), (17, '89')]\n"
     ]
    }
   ],
   "source": [
    "# uses of lambda\n",
    "x = range(15, 20)\n",
    "y = [str(a*a)[1:] for a in x]\n",
    "print x\n",
    "print y\n",
    "\n",
    "z = zip(x, y)\n",
    "print z\n",
    "\n",
    "z.sort(key=lambda x: x[1])\n",
    "print z\n",
    "\n",
    "\n"
   ]
  },
  {
   "cell_type": "code",
   "execution_count": 32,
   "metadata": {
    "collapsed": false
   },
   "outputs": [
    {
     "name": "stdout",
     "output_type": "stream",
     "text": [
      "<generator object <genexpr> at 0x7f1e3958f0f0>\n",
      "0 1 8 27 64 125 216 343 512 729 1000 1331 1728 2197 2744 3375 4096 4913 5832 6859 8000 9261 10648 12167 13824 15625 17576 19683 21952 24389 27000 29791 32768 35937 39304 42875 46656 50653 54872 59319 64000 68921 74088 79507 85184 91125 97336 103823 110592 117649 125000 132651 140608 148877 157464 166375 175616 185193 195112 205379 216000 226981 238328 250047 262144 274625 287496 300763 314432 328509 343000 357911 373248 389017 405224 421875 438976 456533 474552 493039 512000 531441 551368 571787 592704 614125 636056 658503 681472 704969 729000 753571 778688 804357 830584 857375 884736 912673 941192 970299\n"
     ]
    }
   ],
   "source": [
    "x = range(100)\n",
    "y = [a*a*a for a in x ]\n",
    "\n",
    "z = (a*a*a for a in x )\n",
    "\n",
    "print z\n",
    "for a in z:\n",
    "    print a, \n",
    "    "
   ]
  }
 ],
 "metadata": {
  "kernelspec": {
   "display_name": "Python 2",
   "language": "python",
   "name": "python2"
  },
  "language_info": {
   "codemirror_mode": {
    "name": "ipython",
    "version": 2
   },
   "file_extension": ".py",
   "mimetype": "text/x-python",
   "name": "python",
   "nbconvert_exporter": "python",
   "pygments_lexer": "ipython2",
   "version": "2.7.11"
  }
 },
 "nbformat": 4,
 "nbformat_minor": 0
}
