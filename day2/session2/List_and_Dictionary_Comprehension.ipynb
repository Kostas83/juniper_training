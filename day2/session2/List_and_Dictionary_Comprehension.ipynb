{
 "cells": [
  {
   "cell_type": "code",
   "execution_count": null,
   "metadata": {
    "collapsed": true
   },
   "outputs": [],
   "source": []
  },
  {
   "cell_type": "markdown",
   "metadata": {},
   "source": [
    "__ List Comprehensions, Dictionary Comprehensions__\n",
    "\n",
    " - syntax of LC\n",
    " - examples\n",
    " - Syntax of DC, SC\n",
    " - Examples,\n",
    " - compatibility of python versions\n"
   ]
  },
  {
   "cell_type": "code",
   "execution_count": 7,
   "metadata": {
    "collapsed": false
   },
   "outputs": [
    {
     "name": "stdout",
     "output_type": "stream",
     "text": [
      "[0, 1, 2, 3, 4, 5, 6, 7, 8, 9]\n",
      "[0, 1, 4, 9, 16, 25, 36, 49, 64, 81]\n",
      "squares:  [0, 1, 4, 9, 16, 25, 36, 49, 64, 81]\n",
      "multiples_3,  [0, 3, 6, 9]\n"
     ]
    }
   ],
   "source": [
    "x = range(10)\n",
    "print x\n",
    "new_list = []\n",
    "for element in x:\n",
    "    new_list.append(element*element)\n",
    "print new_list\n",
    "\n",
    "squares = [element*element for element in x]\n",
    "print \"squares: \", squares\n",
    "\n",
    "multiples_3 = [element for element in x if not element%3]\n",
    "print \"multiples_3, \", multiples_3\n"
   ]
  },
  {
   "cell_type": "code",
   "execution_count": 8,
   "metadata": {
    "collapsed": false
   },
   "outputs": [
    {
     "name": "stdout",
     "output_type": "stream",
     "text": [
      "{3: 3000}\n",
      "{1: 1000, 2: 2000, 3: 3000}\n"
     ]
    }
   ],
   "source": [
    "x = [(1, 1000),(2, 2000), (3, 3000)]\n",
    "\n",
    "y = {key:value for key, value in x if key%3==0}\n",
    "print y\n",
    "print dict(x)"
   ]
  },
  {
   "cell_type": "code",
   "execution_count": null,
   "metadata": {
    "collapsed": true
   },
   "outputs": [],
   "source": []
  },
  {
   "cell_type": "code",
   "execution_count": 9,
   "metadata": {
    "collapsed": false
   },
   "outputs": [
    {
     "name": "stdout",
     "output_type": "stream",
     "text": [
      "[0, 1, 2, 3, 4, 5, 6, 7, 8, 9, 0, 1, 2, 3, 4]\n",
      "set([0, 1, 2, 3, 4, 5, 6, 7, 8, 9])\n"
     ]
    }
   ],
   "source": [
    "\n",
    "\n",
    "#SC\n",
    "x = range(10) + range(5)\n",
    "print x\n",
    "\n",
    "s = {element for element in x}\n",
    "print s"
   ]
  }
 ],
 "metadata": {
  "kernelspec": {
   "display_name": "Python 2",
   "language": "python",
   "name": "python2"
  },
  "language_info": {
   "codemirror_mode": {
    "name": "ipython",
    "version": 2
   },
   "file_extension": ".py",
   "mimetype": "text/x-python",
   "name": "python",
   "nbconvert_exporter": "python",
   "pygments_lexer": "ipython2",
   "version": "2.7.11"
  }
 },
 "nbformat": 4,
 "nbformat_minor": 0
}
