{
 "cells": [
  {
   "cell_type": "markdown",
   "metadata": {},
   "source": [
    "### packaging\n",
    "\n",
    "\n",
    "Here is an example of a directory containing Python code:\n",
    "```python\n",
    "spam/\n",
    "    README.txt\n",
    "    Documentation.txt \n",
    "    libspam.py \n",
    "    spampkg/\n",
    "        __init__.py\n",
    "        foo.py \n",
    "        bar.py\n",
    "    runspam.py\n",
    "# A single library module\n",
    "# A package of support modules\n",
    "# A script to run as: python runspam.py\n",
    "```\n",
    "\n",
    "if you start Python in the spam directory, you should be able to import modules, import package components, and run scripts without having to alter any of Python’s settings such as the module search path.\n",
    "After you have organized your code, create a file setup.py in the top most directory (spam in the previous examples). In this file, put the following code:\n",
    "```python\n",
    "# setup.py\n",
    "from distutils.core import setup\n",
    "setup(\n",
    "    name = \"spam\", version = \"1.0\",\n",
    "    py_modules = ['libspam'], \n",
    "    packages = ['spampkg'], \n",
    "    scripts = ['runspam.py'], \n",
    "    )\n",
    "```\n",
    "In the setup() call, the py_modules argument is a list of all of the single-file Python modules, packages is a list of all package directories, and scripts is a list of script files. \n",
    "\n",
    "Any of these arguments may be omitted if your software does not have any match- ing components (i.e., there are no scripts). name is the name of your package, and version is the version number as a string."
   ]
  },
  {
   "cell_type": "markdown",
   "metadata": {},
   "source": [
    "```\n",
    "% python setup.py sdist ...\n",
    "%\n",
    "```\n",
    "This creates an archive file such as spam-1.0.tar.gz or spam-1.0.zip in the directo- ry spam/dist.This is the file you would give to others to install your software.To install, a user simply unpacks the archive and performs these steps:\n",
    "```\n",
    "% unzip spam-1.0.zip\n",
    "...\n",
    "% cd spam-1.0\n",
    "% python setup.py install ...\n",
    "%\n",
    "```"
   ]
  },
  {
   "cell_type": "markdown",
   "metadata": {},
   "source": [
    "### 3rd party libraries, pip, easy\\_install"
   ]
  },
  {
   "cell_type": "code",
   "execution_count": null,
   "metadata": {
    "collapsed": true
   },
   "outputs": [],
   "source": []
  },
  {
   "cell_type": "markdown",
   "metadata": {},
   "source": [
    "```python\n",
    "easy_install <package1> #old way\n",
    "pip install <package2>\n",
    "```\n",
    "\n"
   ]
  }
 ],
 "metadata": {
  "kernelspec": {
   "display_name": "Python 2",
   "language": "python",
   "name": "python2"
  },
  "language_info": {
   "codemirror_mode": {
    "name": "ipython",
    "version": 2
   },
   "file_extension": ".py",
   "mimetype": "text/x-python",
   "name": "python",
   "nbconvert_exporter": "python",
   "pygments_lexer": "ipython2",
   "version": "2.7.11"
  }
 },
 "nbformat": 4,
 "nbformat_minor": 0
}
