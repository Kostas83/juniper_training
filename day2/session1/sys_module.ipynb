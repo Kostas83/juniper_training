{
 "cells": [
  {
   "cell_type": "markdown",
   "metadata": {},
   "source": [
    "__Standard Library__\n",
    "\n",
    "* Python standard library is a collection of modules and packages \n",
    "* Standard library comes with installed python\n",
    "* Standard libraries contain tools to do most of the stuff\n",
    "* system and network interaction, threading, subprocess, date time calculation, database interaction etc..\n",
    "\n",
    "* we will consider two such modules for now\n"
   ]
  },
  {
   "cell_type": "markdown",
   "metadata": {},
   "source": [
    "__sys module__\n",
    "\n",
    "* This module provides access to some objects used or maintained by the\n",
    "    interpreter and to functions that interact strongly with the interpreter.\n",
    "    \n",
    "* sys.version will give python version info\n",
    "\n",
    "* sys.exit() will cause python to exit abruptly\n",
    "\n",
    "* sys.argv contains all the arguments passed while invoking python interpreter.\n",
    "\n",
    "\n"
   ]
  },
  {
   "cell_type": "markdown",
   "metadata": {},
   "source": []
  },
  {
   "cell_type": "code",
   "execution_count": null,
   "metadata": {
    "collapsed": false
   },
   "outputs": [],
   "source": []
  }
 ],
 "metadata": {
  "kernelspec": {
   "display_name": "Python 2",
   "language": "python",
   "name": "python2"
  },
  "language_info": {
   "codemirror_mode": {
    "name": "ipython",
    "version": 2
   },
   "file_extension": ".py",
   "mimetype": "text/x-python",
   "name": "python",
   "nbconvert_exporter": "python",
   "pygments_lexer": "ipython2",
   "version": "2.7.11"
  }
 },
 "nbformat": 4,
 "nbformat_minor": 0
}
