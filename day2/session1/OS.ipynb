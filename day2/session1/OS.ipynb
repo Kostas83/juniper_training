{
 "cells": [
  {
   "cell_type": "markdown",
   "metadata": {},
   "source": [
    "__os module__\n",
    "\n",
    "* contains libraries for os interaction\n",
    "* automatically takes care of the underlying operating system\n",
    "\n",
    "* e.g: os.getcwd() prints current working directory\n",
    "* os.chdir('path') changes the directory to new location\n",
    "* os.name, os.cudir, os.listdir, os.mkdir\n",
    "* os.path contains utilities for path manipulation\n",
    "* os.path.abspath, os.path.basename, os.path.join, os.path.exists\n",
    "* os.path.isfile, os.path.isdir"
   ]
  },
  {
   "cell_type": "code",
   "execution_count": 2,
   "metadata": {
    "collapsed": false
   },
   "outputs": [
    {
     "name": "stdout",
     "output_type": "stream",
     "text": [
      "posix\n"
     ]
    }
   ],
   "source": [
    "#OS\n",
    "\n",
    "import os\n",
    "\n",
    "print os.name\n",
    "print os.uname()\n",
    "# dir(os)"
   ]
  },
  {
   "cell_type": "code",
   "execution_count": null,
   "metadata": {
    "collapsed": true
   },
   "outputs": [],
   "source": [
    "x = os.getcwd()\n",
    "print os.getcwd()\n",
    "os.chdir('/Users/abdulmuneer/')\n",
    "print os.getcwd()\n",
    "os.chdir(\"/Users/abdulmuneer/workspace/juniper_training/day2/session1\")\n",
    "print os.getcwd()\n",
    "os.mkdir(\"TEST_DIR\")"
   ]
  },
  {
   "cell_type": "code",
   "execution_count": null,
   "metadata": {
    "collapsed": false
   },
   "outputs": [],
   "source": [
    "for x, y, z in os.walk('.'):\n",
    "    print x\n",
    "    print \"+++++++++++++++++++++++++++++++++\"\n",
    "    print y\n",
    "    print \"+++++++++++++++++++++++++++++++++\"\n",
    "    print z\n",
    "    print \"+++++++++++++++++++++++++++++++++\""
   ]
  },
  {
   "cell_type": "code",
   "execution_count": null,
   "metadata": {
    "collapsed": false
   },
   "outputs": [],
   "source": [
    "help(os.walk)"
   ]
  },
  {
   "cell_type": "code",
   "execution_count": null,
   "metadata": {
    "collapsed": false
   },
   "outputs": [],
   "source": [
    "x = os.getcwd()\n",
    "print x\n"
   ]
  },
  {
   "cell_type": "code",
   "execution_count": null,
   "metadata": {
    "collapsed": false
   },
   "outputs": [],
   "source": [
    "print os.path.abspath(\".\")"
   ]
  },
  {
   "cell_type": "code",
   "execution_count": null,
   "metadata": {
    "collapsed": false
   },
   "outputs": [],
   "source": [
    "x = \"\"\n",
    "\n",
    "print os.path.basename(x)\n",
    "\n",
    "print os.path.split(x)\n",
    "help(os.path.split)"
   ]
  },
  {
   "cell_type": "code",
   "execution_count": null,
   "metadata": {
    "collapsed": false
   },
   "outputs": [],
   "source": [
    "path_list = x.split('/')\n",
    "print path_list"
   ]
  },
  {
   "cell_type": "code",
   "execution_count": null,
   "metadata": {
    "collapsed": false
   },
   "outputs": [],
   "source": [
    "l = os.path.join('/', 'Users', 'abdulmuneer', 'workspace', 'training', 'juniper_training', 'day2', 'session1')\n",
    "print l"
   ]
  },
  {
   "cell_type": "code",
   "execution_count": null,
   "metadata": {
    "collapsed": false
   },
   "outputs": [],
   "source": [
    "print os.path.isdir('numbers.txt')\n",
    "print os.path.exists('invalid')\n",
    "print os.listdir('.')"
   ]
  },
  {
   "cell_type": "code",
   "execution_count": null,
   "metadata": {
    "collapsed": true
   },
   "outputs": [],
   "source": [
    "__Exercise__\n",
    "\n",
    "* print all files in home directory that starts with letter 'a' or 'B'"
   ]
  }
 ],
 "metadata": {
  "kernelspec": {
   "display_name": "Python 2",
   "language": "python",
   "name": "python2"
  },
  "language_info": {
   "codemirror_mode": {
    "name": "ipython",
    "version": 2
   },
   "file_extension": ".py",
   "mimetype": "text/x-python",
   "name": "python",
   "nbconvert_exporter": "python",
   "pygments_lexer": "ipython2",
   "version": "2.7.11"
  }
 },
 "nbformat": 4,
 "nbformat_minor": 0
}
