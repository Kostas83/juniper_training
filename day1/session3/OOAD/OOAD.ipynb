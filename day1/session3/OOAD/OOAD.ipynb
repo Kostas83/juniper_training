{
 "cells": [
  {
   "cell_type": "markdown",
   "metadata": {},
   "source": [
    "### Objects\n",
    "* Combine state (data) and behavior (algorithms).\n",
    "\n",
    "#### Encapsulation : Only what is necessary is exposed (public interface) to the outside.\n",
    "* Implementation details are hidden to provide abstraction.\n",
    "* Abstraction should not leak implementation details.\n",
    "* Abstraction allows us to break up a large problem into understandable parts."
   ]
  },
  {
   "cell_type": "code",
   "execution_count": 4,
   "metadata": {
    "collapsed": false
   },
   "outputs": [
    {
     "name": "stdout",
     "output_type": "stream",
     "text": [
      "<type 'instance'>\n",
      "['__doc__', '__module__', 'travel']\n",
      "travelling\n",
      "None\n"
     ]
    }
   ],
   "source": [
    "# old style classes\n",
    "\n",
    "class Vehicle:\n",
    "    '''\n",
    "    This is a general class of vehicle\n",
    "    '''\n",
    "    def travel(self):\n",
    "        print 'travelling'\n",
    "        \n",
    "class Surface_Vehicles(Vehicle):\n",
    "    def get_wheel_count(self):\n",
    "        return 4\n",
    "        \n",
    "m_800 = Vehicle()\n",
    "print type(m_800)\n",
    "#help(m_800)\n",
    "print dir(m_800)\n",
    "print m_800.travel()\n",
    "# print dir(Vehicle)\n",
    "\n",
    "# m_801 = Surface_Vehicles()\n",
    "# print \"*\"*50\n",
    "# print dir(m_801)\n",
    "# print dir(Surface_Vehicles)\n",
    "\n",
    "#print m_800.__doc__"
   ]
  },
  {
   "cell_type": "code",
   "execution_count": 9,
   "metadata": {
    "collapsed": false
   },
   "outputs": [
    {
     "name": "stdout",
     "output_type": "stream",
     "text": [
      "<class '__main__.Vehicle'>\n",
      "['__class__', '__delattr__', '__dict__', '__doc__', '__format__', '__getattribute__', '__hash__', '__init__', '__module__', '__new__', '__reduce__', '__reduce_ex__', '__repr__', '__setattr__', '__sizeof__', '__str__', '__subclasshook__', '__weakref__', 'travel']\n"
     ]
    }
   ],
   "source": [
    "# New style classes\n",
    "\n",
    "class Vehicle(object):\n",
    "    '''\n",
    "    This is a general class of vehicle\n",
    "    '''\n",
    "    \n",
    "    def travel(self):\n",
    "        print 'travelling'\n",
    "        \n",
    "m_800 = Vehicle()\n",
    "print type(m_800)\n",
    "#help(m_800)\n",
    "print dir(m_800)\n",
    "#print dir(Vehicle)"
   ]
  },
  {
   "cell_type": "code",
   "execution_count": 24,
   "metadata": {
    "collapsed": false
   },
   "outputs": [
    {
     "name": "stdout",
     "output_type": "stream",
     "text": [
      "6\n",
      "6\n",
      "travelling\n",
      "None\n"
     ]
    }
   ],
   "source": [
    "class Surface_Vehicles(Vehicle, object):#inherit from mutiple classes\n",
    "    def __init__(self, color, fuel): # intialization\n",
    "        self.color = color\n",
    "        self.fuel = fuel\n",
    "        \n",
    "    def get_wheel_count(self):\n",
    "        return 4\n",
    "    def get_mileage(self):\n",
    "        if self.fuel == 'diesel':\n",
    "            return 25\n",
    "        else:\n",
    "            return 15\n",
    "    def get_travel_cost(self, distance):\n",
    "        #get fuel needed\n",
    "        fuel_needed = distance/self.get_mileage()\n",
    "        return fuel_needed\n",
    "        \n",
    "v1 = Surface_Vehicles('blue', 'diesel' )\n",
    "# print v1.color\n",
    "# print v1.fuel\n",
    "\n",
    "v2 = Surface_Vehicles('white', 'petrol')\n",
    "\n",
    "# print id(v1)\n",
    "\n",
    "# print id(v2)\n",
    "\n",
    "# print v2.get_mileage()\n",
    "\n",
    "print v2.get_travel_cost(100)\n",
    "\n",
    "print Surface_Vehicles.get_travel_cost(v2, 100)\n",
    "print Surface_Vehicles.travel(v2)\n",
    "\n"
   ]
  },
  {
   "cell_type": "code",
   "execution_count": 27,
   "metadata": {
    "collapsed": false
   },
   "outputs": [
    {
     "name": "stdout",
     "output_type": "stream",
     "text": [
      "flying at 400 speed.\n"
     ]
    }
   ],
   "source": [
    "#adding new method to existing classes\n",
    "\n",
    "def fly(obj, speed):\n",
    "    print \"flying at \"+str(speed)+\" speed.\"\n",
    "    \n",
    "Surface_Vehicles.new_flying_feature = fly\n",
    "v2.new_flying_feature(400)\n",
    "\n"
   ]
  },
  {
   "cell_type": "code",
   "execution_count": 30,
   "metadata": {
    "collapsed": false
   },
   "outputs": [
    {
     "ename": "SyntaxError",
     "evalue": "can't assign to function call (<ipython-input-30-06ef7d31938a>, line 27)",
     "output_type": "error",
     "traceback": [
      "\u001b[0;36m  File \u001b[0;32m\"<ipython-input-30-06ef7d31938a>\"\u001b[0;36m, line \u001b[0;32m27\u001b[0m\n\u001b[0;31m    setattr(cls, feature_name) = feature\u001b[0m\n\u001b[0;31mSyntaxError\u001b[0m\u001b[0;31m:\u001b[0m can't assign to function call\n"
     ]
    }
   ],
   "source": [
    "\n",
    "        \n",
    "class Surface_Vehicles(Vehicle, object):#inherit from mutiple classes\n",
    "    x = 10\n",
    "    def __init__(self, color, fuel): # intialization\n",
    "        self.color = color\n",
    "        self.fuel = fuel\n",
    "        \n",
    "    def get_wheel_count(self):\n",
    "        return 4\n",
    "    def get_mileage(self):\n",
    "        if self.fuel == 'diesel':\n",
    "            return 25\n",
    "        else:\n",
    "            return 15\n",
    "    def get_travel_cost(self, distance):\n",
    "        #get fule needed\n",
    "        fuel_needed = distance/get_mileage(self)\n",
    "        cost = fuel_needed * __get_fuel_cost(self.fuel)\n",
    "        \n",
    "    @classmethod\n",
    "    def greet(cls):\n",
    "        print \"hello\"\n",
    "    \n",
    "    @classmethod\n",
    "    def add_feature(cls, feature_name, feature):\n",
    "        setattr(cls, feature_name) = feature\n",
    "    \n",
    "    @staticmethod\n",
    "    def another_greet():\n",
    "        print \"Hi\"\n",
    "        \n",
    "    def __get_fuel_cost(fuel_type):\n",
    "        pass\n",
    "    \n",
    "    def another_util_function():\n",
    "        pass\n",
    "\n",
    "m_801 = Surface_Vehicles('white', 'diesel')\n",
    "m_802 = Surface_Vehicles('blue', 'petrol')\n",
    "m_801.add_feature('fly', fly)"
   ]
  },
  {
   "cell_type": "code",
   "execution_count": 39,
   "metadata": {
    "collapsed": false
   },
   "outputs": [
    {
     "name": "stdout",
     "output_type": "stream",
     "text": [
      "Hello\n",
      "Hello\n"
     ]
    },
    {
     "data": {
      "text/plain": [
       "['_Test__greet2',\n",
       " '__class__',\n",
       " '__delattr__',\n",
       " '__dict__',\n",
       " '__doc__',\n",
       " '__format__',\n",
       " '__getattribute__',\n",
       " '__hash__',\n",
       " '__init__',\n",
       " '__module__',\n",
       " '__new__',\n",
       " '__reduce__',\n",
       " '__reduce_ex__',\n",
       " '__repr__',\n",
       " '__setattr__',\n",
       " '__sizeof__',\n",
       " '__str__',\n",
       " '__subclasshook__',\n",
       " '__weakref__',\n",
       " 'greet',\n",
       " 'x']"
      ]
     },
     "execution_count": 39,
     "metadata": {},
     "output_type": "execute_result"
    }
   ],
   "source": [
    "class Test(object):\n",
    "    x = 10\n",
    "    \n",
    "    def greet(self):\n",
    "        print \"Hello\"\n",
    "        \n",
    "    def __greet2(self): # hidden\n",
    "        print \"Hello\"\n",
    "        \n",
    "        \n",
    "test1 = Test()\n",
    "test1.greet()\n",
    "# test1.__greet2()\n",
    "test1._Test__greet2()\n",
    "# print test1.__dict__\n",
    "\n",
    "dir(test1)"
   ]
  },
  {
   "cell_type": "code",
   "execution_count": null,
   "metadata": {
    "collapsed": true
   },
   "outputs": [],
   "source": []
  },
  {
   "cell_type": "code",
   "execution_count": null,
   "metadata": {
    "collapsed": false
   },
   "outputs": [],
   "source": [
    "Test.__dict__"
   ]
  },
  {
   "cell_type": "code",
   "execution_count": null,
   "metadata": {
    "collapsed": false
   },
   "outputs": [],
   "source": [
    "test1.__class__"
   ]
  },
  {
   "cell_type": "code",
   "execution_count": null,
   "metadata": {
    "collapsed": false
   },
   "outputs": [],
   "source": [
    "test1.__class__.x"
   ]
  },
  {
   "cell_type": "code",
   "execution_count": 6,
   "metadata": {
    "collapsed": true
   },
   "outputs": [],
   "source": [
    "class Vehicle():\n",
    "    pass\n",
    "\n",
    "v = Vehicle()"
   ]
  },
  {
   "cell_type": "code",
   "execution_count": 7,
   "metadata": {
    "collapsed": false
   },
   "outputs": [
    {
     "data": {
      "text/plain": [
       "'<__main__.Vehicle instance at 0x103e25560>'"
      ]
     },
     "execution_count": 7,
     "metadata": {},
     "output_type": "execute_result"
    }
   ],
   "source": [
    "str(v)"
   ]
  },
  {
   "cell_type": "code",
   "execution_count": 10,
   "metadata": {
    "collapsed": false
   },
   "outputs": [
    {
     "data": {
      "text/plain": [
       "'I am a vehicle object at address: 4360614544'"
      ]
     },
     "execution_count": 10,
     "metadata": {},
     "output_type": "execute_result"
    }
   ],
   "source": [
    "class Vehicle():\n",
    "    def __str__(self):\n",
    "        return \"I am a vehicle object at address: \" + str( id(self))\n",
    "\n",
    "v = Vehicle()\n",
    "\n",
    "str(v)"
   ]
  }
 ],
 "metadata": {
  "kernelspec": {
   "display_name": "Python 2",
   "language": "python",
   "name": "python2"
  },
  "language_info": {
   "codemirror_mode": {
    "name": "ipython",
    "version": 2
   },
   "file_extension": ".py",
   "mimetype": "text/x-python",
   "name": "python",
   "nbconvert_exporter": "python",
   "pygments_lexer": "ipython2",
   "version": "2.7.11"
  }
 },
 "nbformat": 4,
 "nbformat_minor": 0
}
