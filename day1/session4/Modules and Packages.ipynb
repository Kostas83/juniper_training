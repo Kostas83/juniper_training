{
 "cells": [
  {
   "cell_type": "markdown",
   "metadata": {},
   "source": [
    "## Python Modules, Packages"
   ]
  },
  {
   "cell_type": "markdown",
   "metadata": {},
   "source": [
    "### Modules"
   ]
  },
  {
   "cell_type": "markdown",
   "metadata": {
    "collapsed": true
   },
   "source": [
    "The first time import is used to load a module, it does three things:\n",
    "1. It creates a new namespace that serves as a container for all the objects defined in the corresponding source file.This is the namespace accessed when functions and methods defined within the module use the global statement.\n",
    "2. It executes the code contained in the module within the newly created name- space.\n",
    "3. It creates a name within the caller that refers to the module namespace."
   ]
  },
  {
   "cell_type": "markdown",
   "metadata": {},
   "source": [
    "```python\n",
    "import os\n",
    "import simplejson as json\n",
    "```\n"
   ]
  },
  {
   "cell_type": "markdown",
   "metadata": {},
   "source": [
    "```python\n",
    "from spam import foo \n",
    "foo()\n",
    "spam.foo()\n",
    "# Imports spam and puts 'foo' in current namespace # Calls spam.foo()\n",
    "# NameError: spam\n",
    "\n",
    "from spam import *\n",
    "\n",
    "\n",
    "#Module search path:\n",
    "import sys \n",
    "sys.path.append(\"mymodules.zip\") \n",
    "import foo, bar\n",
    "```"
   ]
  },
  {
   "cell_type": "markdown",
   "metadata": {},
   "source": [
    "##### summary:\n",
    "```python\n",
    ">>> #import module\n",
    "... \n",
    ">>> #from module import class\n",
    "... \n",
    ">>> #from package import module\n",
    "... \n",
    ">>> #from package import module1, module2\n",
    "... \n",
    ">>> #from module import class1, class2\n",
    "... \n",
    ">>> #from package import *\n",
    "... \n",
    ">>> #from module import *\n",
    "```"
   ]
  },
  {
   "cell_type": "markdown",
   "metadata": {},
   "source": [
    "### Packages\n",
    "\n",
    "Packages allow a collection of modules to be grouped under a common package name.\n",
    "A package is defined by creating a directory with the same name as the package and creating the file __init__.py in that directory.\n",
    "```python\n",
    "\n",
    "Graphics/\n",
    "    __init__.py\n",
    "    Primitive/\n",
    "        __init__.py\n",
    "        lines.py\n",
    "        fill.py \n",
    "        text.py \n",
    "        ...\n",
    "    Graph2d/\n",
    "        __init__.py\n",
    "        plot2d.py\n",
    "        ... \n",
    "    Graph3d/\n",
    "        __init__.py \n",
    "        plot3d.py \n",
    "        ...\n",
    "    Formats/ \n",
    "        __init__.py\n",
    "        gif.py\n",
    "        \n",
    "```\n",
    "\n",
    "```python\n",
    "import Graphics.Primitive.fill\n",
    "from Graphics.Primitive import fill\n",
    "from Graphics.Primitive.fill import floodfill\n",
    "```"
   ]
  },
  {
   "cell_type": "code",
   "execution_count": null,
   "metadata": {
    "collapsed": true
   },
   "outputs": [],
   "source": []
  },
  {
   "cell_type": "code",
   "execution_count": null,
   "metadata": {
    "collapsed": true
   },
   "outputs": [],
   "source": []
  }
 ],
 "metadata": {
  "kernelspec": {
   "display_name": "Python 2",
   "language": "python",
   "name": "python2"
  },
  "language_info": {
   "codemirror_mode": {
    "name": "ipython",
    "version": 2
   },
   "file_extension": ".py",
   "mimetype": "text/x-python",
   "name": "python",
   "nbconvert_exporter": "python",
   "pygments_lexer": "ipython2",
   "version": "2.7.11"
  }
 },
 "nbformat": 4,
 "nbformat_minor": 0
}
