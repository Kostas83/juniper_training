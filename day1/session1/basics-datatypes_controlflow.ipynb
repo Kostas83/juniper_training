{
 "cells": [
  {
   "cell_type": "markdown",
   "metadata": {},
   "source": [
    "#### Basic Data Structures : \n",
    "* int, float, str\n",
    "* Possible operations on above datatypes\n",
    "* Variables\n",
    "* Dynamic typing\n",
    "\n"
   ]
  },
  {
   "cell_type": "markdown",
   "metadata": {},
   "source": [
    "__Numbers__:\n",
    "\n",
    "* int \n",
    "\n",
    "```python\n",
    "x = 10\n",
    "y = -1\n",
    "z = 1000\n",
    "```\n",
    "* float\n",
    "\n",
    "```python\n",
    "x = 10.1\n",
    "y = -1.1\n",
    "z = 3.14\n",
    "```\n",
    "* complex\n",
    "\n",
    "```python\n",
    "x = 10 + 2j\n",
    "y = -1j\n",
    "```"
   ]
  },
  {
   "cell_type": "markdown",
   "metadata": {},
   "source": [
    "__Boolean and None__\n",
    "\n",
    "```python\n",
    "True\n",
    "False\n",
    "None\n",
    "```"
   ]
  },
  {
   "cell_type": "markdown",
   "metadata": {},
   "source": [
    "Arithmetic Operations:\n",
    "* Assignment: =\n",
    "* Addition: +\n",
    "* Subtraction: -\n",
    "* Division: /\n",
    "* Multiplication: *\n",
    "\n",
    "* Power: `**`\n",
    "* Modulo: %\n",
    "* Floor division: //\n",
    "\n",
    "* precedence `*, /, %, //` takes precedence over `+, -`\n",
    "\n",
    "```python\n",
    "2+3*2-5 = 3\n",
    "```\n",
    "* reference: https://docs.python.org/2/reference/expressions.html#operator-precedence\n",
    "* We can force precedence by enclosing them in parantheses. \n",
    "\n",
    "```python\n",
    "(2+3)*2-5 = 5\n",
    "```"
   ]
  },
  {
   "cell_type": "markdown",
   "metadata": {},
   "source": [
    "__Strings__\n",
    "\n",
    "```python\n",
    "p = 'a'\n",
    "q = \"b\"\n",
    "x = 'this is a single quoted String'\n",
    "y = \"this is a double quoted String\"\n",
    "z = \"\"\"This is a triple \n",
    "quoted string\"\"\"\n",
    "note = '''Triple quoted strings can contain multi line strings'''\n",
    "```"
   ]
  },
  {
   "cell_type": "code",
   "execution_count": 2,
   "metadata": {
    "collapsed": false
   },
   "outputs": [
    {
     "name": "stdout",
     "output_type": "stream",
     "text": [
      "Hellow World\n",
      "This is a triple quoted string\n",
      "Triple quoted strings can contain multi\n",
      "line strings\n"
     ]
    }
   ],
   "source": [
    "p = 'a'\n",
    "q = \"b\"\n",
    "x = 'this is a single quoted String'\n",
    "\n",
    "y = \"this is a \\\n",
    "double quoted String\"\n",
    "\n",
    "z = \"\"\"This is a triple \n",
    "quoted string\"\"\"\n",
    "\n",
    "note = '''Triple quoted strings \\\n",
    "can contain multi\n",
    "line strings'''\n",
    "\n",
    "print(\"Hellow World\")\n",
    "\n",
    "print(z)\n",
    "\n",
    "print(note)"
   ]
  },
  {
   "cell_type": "code",
   "execution_count": 5,
   "metadata": {
    "collapsed": false
   },
   "outputs": [
    {
     "name": "stdout",
     "output_type": "stream",
     "text": [
      "('a', 'b', 'this is a single quoted String', 'this is a double quoted String', 'This is a triple quoted string')\n"
     ]
    }
   ],
   "source": [
    "print(p, q, x, y, z)"
   ]
  },
  {
   "cell_type": "code",
   "execution_count": 6,
   "metadata": {
    "collapsed": false
   },
   "outputs": [
    {
     "name": "stdout",
     "output_type": "stream",
     "text": [
      "abthis is a single quoted Stringthis is a double quoted StringThis is a triple quoted string\n"
     ]
    }
   ],
   "source": [
    "print(p + q +  x + y + z)"
   ]
  },
  {
   "cell_type": "markdown",
   "metadata": {},
   "source": [
    "__Type Conversion__\n",
    "\n",
    "* converting string to a number\n",
    "* converting number to a string\n",
    "* converting between numbers\n",
    "* implicit conversion"
   ]
  },
  {
   "cell_type": "code",
   "execution_count": 7,
   "metadata": {
    "collapsed": false
   },
   "outputs": [
    {
     "name": "stdout",
     "output_type": "stream",
     "text": [
      "(12, <type 'int'>)\n",
      "('12', <type 'str'>)\n",
      "144\n",
      "121212121212121212121212\n"
     ]
    }
   ],
   "source": [
    "x = '12'\n",
    "y = int(x)\n",
    "print(y, type(y))\n",
    "print(x, type(x))\n",
    "print(y*y)\n",
    "print(x*y)"
   ]
  },
  {
   "cell_type": "code",
   "execution_count": 9,
   "metadata": {
    "collapsed": false
   },
   "outputs": [
    {
     "name": "stdout",
     "output_type": "stream",
     "text": [
      "4.0\n",
      "10.0\n"
     ]
    }
   ],
   "source": [
    "x = 10\n",
    "y = 2.5\n",
    "\n",
    "print(x/y)\n",
    "\n",
    "print(x*1.0)"
   ]
  },
  {
   "cell_type": "code",
   "execution_count": 13,
   "metadata": {
    "collapsed": false
   },
   "outputs": [
    {
     "data": {
      "text/plain": [
       "3"
      ]
     },
     "execution_count": 13,
     "metadata": {},
     "output_type": "execute_result"
    }
   ],
   "source": [
    "#python 2\n",
    "\n",
    "10/3\n",
    "\n",
    "#python 3\n",
    "#3.333333"
   ]
  },
  {
   "cell_type": "markdown",
   "metadata": {},
   "source": [
    "+++++++++++++++++++++++++++++++++++++++++++++++++++++++"
   ]
  },
  {
   "cell_type": "markdown",
   "metadata": {},
   "source": [
    "#### Basic Programming constructs:\n",
    "**    Conditions : If, else, elif **\n",
    "\n",
    "**    Loops: while, break, continue, for **"
   ]
  },
  {
   "cell_type": "markdown",
   "metadata": {},
   "source": [
    "#### Conditions:\n",
    "__if:__\n",
    "\n",
    "```python\n",
    "if (condition):\n",
    "    do something\n",
    "```\n",
    "\n",
    "* The if block is executed when `condition` evavulates to True\n",
    "* The block after `if` starts with an indentation\n"
   ]
  },
  {
   "cell_type": "code",
   "execution_count": 14,
   "metadata": {
    "collapsed": false
   },
   "outputs": [
    {
     "name": "stdout",
     "output_type": "stream",
     "text": [
      "sell\n",
      "200\n",
      "Negative is considered True\n"
     ]
    }
   ],
   "source": [
    "stock_price = 100\n",
    "day = \"Monday\"\n",
    "if stock_price < 110:\n",
    "    print('sell')\n",
    "\n",
    "x = 200\n",
    "print(x)\n",
    "\n",
    "y = -10\n",
    "if y:\n",
    "    print('Negative is considered True')"
   ]
  },
  {
   "cell_type": "markdown",
   "metadata": {},
   "source": [
    "__Python `Truthiness`__ :\n",
    "\n",
    "* 0, 0.0, None, '' (empty string) all evaluates to False\n",
    "* Any non-zero number and string evaluates to True\n",
    "\n",
    "* Any empty container types will evaluate to False (covered later)\n"
   ]
  },
  {
   "cell_type": "markdown",
   "metadata": {},
   "source": [
    "__Boolean Operators__:\n",
    "\n",
    "```python\n",
    "and\n",
    "or\n",
    "not\n",
    "```"
   ]
  },
  {
   "cell_type": "code",
   "execution_count": 15,
   "metadata": {
    "collapsed": false
   },
   "outputs": [
    {
     "name": "stdout",
     "output_type": "stream",
     "text": [
      "sell\n",
      "sell\n"
     ]
    }
   ],
   "source": [
    "stock_price = 100\n",
    "day = \"Monday\"\n",
    "if (stock_price < 110) and (day=='Monday'):\n",
    "    print('sell')\n",
    "    \n",
    "if (stock_price > 110) or (day=='Monday'):\n",
    "    print('sell')"
   ]
  },
  {
   "cell_type": "markdown",
   "metadata": {},
   "source": [
    "\n",
    "```python\n",
    "if (condition):\n",
    "    do something\n",
    "else:\n",
    "    do this\n",
    "```\n",
    "* The `else` keyword does not take any conditions.\n",
    "* Executes when the previous conditions are evaluated to false\n",
    "\n",
    "e.g.:\n",
    "\n",
    "```python\n",
    "if (10%2):\n",
    "    print(\"Number is odd\")\n",
    "else:\n",
    "    print(\"Number is even\")\n",
    "```\n"
   ]
  },
  {
   "cell_type": "code",
   "execution_count": 16,
   "metadata": {
    "collapsed": false
   },
   "outputs": [
    {
     "name": "stdout",
     "output_type": "stream",
     "text": [
      "Number is even\n"
     ]
    }
   ],
   "source": [
    "if (10%2):\n",
    "    print(\"Number is odd\")\n",
    "else:\n",
    "    print(\"Number is even\")"
   ]
  },
  {
   "cell_type": "markdown",
   "metadata": {},
   "source": [
    "__The `elif` condition__:\n",
    "\n",
    "```python\n",
    "if (weekdays):\n",
    "    work\n",
    "elif (saturday):\n",
    "    play\n",
    "else:\n",
    "    rest\n",
    "```\n",
    "* The `elif` keyword takes conditions similar to `if`.\n",
    "* useful for handling different cases\n",
    "\n",
    "e.g.:\n",
    "\n",
    "```python\n",
    "x = 108\n",
    "if not (x%15):\n",
    "    print(\"Number is perfectly divisible by 3 and 5\")\n",
    "elif not(x%5):\n",
    "    print(\"Number is perfectly divisible by 5 but not by 3\")\n",
    "elif not(x%3):\n",
    "    print(\"Number is perfectly divisible by 3 but not by 5\")\n",
    "else:\n",
    "    print(\"Number is not perfectly divisible by 3 or 5\")\n",
    "```\n"
   ]
  },
  {
   "cell_type": "code",
   "execution_count": 17,
   "metadata": {
    "collapsed": false
   },
   "outputs": [
    {
     "name": "stdout",
     "output_type": "stream",
     "text": [
      "Number is perfectly divisible by 3 but not by 5\n"
     ]
    }
   ],
   "source": [
    "x = 108\n",
    "if not (x%15):\n",
    "    print(\"Number is perfectly divisible by 3 and 5\")\n",
    "elif not(x%5):\n",
    "    print(\"Number is perfectly divisible by 5 but not by 3\")\n",
    "elif not(x%3):\n",
    "    print(\"Number is perfectly divisible by 3 but not by 5\")\n",
    "else:\n",
    "    print(\"Number is not perfectly divisible by 3 or 5\")"
   ]
  },
  {
   "cell_type": "markdown",
   "metadata": {},
   "source": [
    "__while loop:__\n",
    "\n",
    "* syntax:\n",
    "```python\n",
    "while weekday:\n",
    "    keep working\n",
    "```\n",
    "\n",
    "* similar to `if` in checking a condtion.\n",
    "* But continues to execute the code block while the condition is True.\n",
    "* So this will run forever:\n",
    "\n",
    "```python\n",
    "while True:\n",
    "    print(\"I am running for ever\")\n",
    "```\n",
    "\n",
    "* so we typically need to alter the `condition` in the code block \n",
    "\n"
   ]
  },
  {
   "cell_type": "markdown",
   "metadata": {},
   "source": [
    "```python\n",
    "while condition:\n",
    "    do something\n",
    "    if sub_condition1:\n",
    "        break\n",
    "    elif sub_condition2:\n",
    "        continue\n",
    "        \n",
    "    else:\n",
    "        do something else\n",
    "```"
   ]
  },
  {
   "cell_type": "markdown",
   "metadata": {},
   "source": [
    "__for:__\n",
    "\n",
    "```python\n",
    "for temp_variable in collection:\n",
    "    do something\n",
    "```\n",
    "\n",
    "* e.g.:\n",
    "\n",
    "```python\n",
    "for num in (1,2,3,4,5,6,7,8,9,10):\n",
    "    if num%2:\n",
    "        print(num, \"is Odd\")\n",
    "    else:\n",
    "        print(num, \"is Even\")\n",
    "```\n",
    "\n",
    "* The `for` loop goes through each item one by one.\n",
    "* in the above example `num` takes new value each time."
   ]
  },
  {
   "cell_type": "code",
   "execution_count": 18,
   "metadata": {
    "collapsed": false
   },
   "outputs": [
    {
     "name": "stdout",
     "output_type": "stream",
     "text": [
      "(1, 'is Odd')\n",
      "(2, 'is Even')\n",
      "(3, 'is Odd')\n",
      "(4, 'is Even')\n",
      "(5, 'is Odd')\n",
      "(6, 'is Even')\n",
      "(7, 'is Odd')\n",
      "(8, 'is Even')\n",
      "(9, 'is Odd')\n",
      "(10, 'is Even')\n"
     ]
    }
   ],
   "source": [
    "for num in (1,2,3,4,5,6,7,8,9,10):\n",
    "    if num%2:\n",
    "        print(num, \"is Odd\")\n",
    "    else:\n",
    "        print(num, \"is Even\")"
   ]
  },
  {
   "cell_type": "code",
   "execution_count": null,
   "metadata": {
    "collapsed": true
   },
   "outputs": [],
   "source": [
    "x = (1, 2, 3, 4, 5)\n",
    "for num in x:\n",
    "    if num%2:\n",
    "        print(num, \"is Odd\")\n",
    "    else:\n",
    "        print(num, \"is Even\")"
   ]
  },
  {
   "cell_type": "markdown",
   "metadata": {},
   "source": [
    "__break and continue:__\n",
    "\n",
    "```python\n",
    "break\n",
    "```\n",
    "\n",
    "* this statement makes the program to exit from the loop it is executing\n",
    "```python\n",
    "for num in (1,2,3,4,5,6,7,8,9,10):\n",
    "    if num%5:\n",
    "        print(\"I am okay with the number \", 5)\n",
    "    else:\n",
    "        print(\"I hate multiples of 5. I am quitting this loop\")\n",
    "        break\n",
    "```        \n",
    "=======================\n",
    "\n",
    "```python\n",
    "continue\n",
    "```\n",
    "\n",
    "* this statement makes the program to skip the rest of the loop and go to next cycle\n",
    "\n",
    "```python\n",
    "#medical checks for a health insurance scheme\n",
    "for age in (20, 30, 40, 50, 60, 70):\n",
    "    if age<=30: #no test needed. skip through\n",
    "        continue\n",
    "        \n",
    "    #prileimenary tests are needed\n",
    "    do preliminery test\n",
    "    \n",
    "    if 30<age<=50:#skip through further tests\n",
    "        continue\n",
    "    \n",
    "    do advanced tests\n",
    "       \n",
    "       \n",
    "        \n",
    "```\n",
    "\n",
    "* break and continue statements are applicable in both for and while loops.\n",
    "\n"
   ]
  },
  {
   "cell_type": "code",
   "execution_count": 19,
   "metadata": {
    "collapsed": false
   },
   "outputs": [
    {
     "name": "stdout",
     "output_type": "stream",
     "text": [
      "('I am okay with the number ', 5)\n",
      "('I am okay with the number ', 5)\n",
      "('I am okay with the number ', 5)\n",
      "('I am okay with the number ', 5)\n",
      "I hate multiples of 5. I am quitting this loop\n"
     ]
    }
   ],
   "source": [
    "for num in (1,2,3,4,5,6,7,8,9,10):\n",
    "  if num%5:\n",
    "      print(\"I am okay with the number \", 5)\n",
    "  else:\n",
    "      print(\"I hate multiples of 5. I am quitting this loop\")\n",
    "      break"
   ]
  },
  {
   "cell_type": "code",
   "execution_count": 20,
   "metadata": {
    "collapsed": false
   },
   "outputs": [
    {
     "name": "stdout",
     "output_type": "stream",
     "text": [
      "do preliminery test\n",
      "do preliminery test\n",
      "do preliminery test\n",
      "Advanced tests\n",
      "do preliminery test\n",
      "Advanced tests\n"
     ]
    }
   ],
   "source": [
    "#medical checks for a health insurance scheme\n",
    "for age in (20, 30, 40, 50, 60, 70):\n",
    "    if age<=30: #no test needed. skip through\n",
    "        continue\n",
    "\n",
    "    #prileimenary tests are needed\n",
    "    print(\"do preliminery test\")\n",
    "\n",
    "    if 30<age<=50:#skip through further tests\n",
    "        continue\n",
    "        \n",
    "    print(\"Advanced tests\")"
   ]
  },
  {
   "cell_type": "code",
   "execution_count": null,
   "metadata": {
    "collapsed": true
   },
   "outputs": [],
   "source": [
    "for num in (1,2,3,4,5,6,7,8,9,10):\n",
    "    if num%5:\n",
    "        print(\"I am okay with the number \", num)\n",
    "    else:\n",
    "        print(\"quitting this loop\")\n",
    "        break"
   ]
  }
 ],
 "metadata": {
  "kernelspec": {
   "display_name": "Python 2",
   "language": "python",
   "name": "python2"
  },
  "language_info": {
   "codemirror_mode": {
    "name": "ipython",
    "version": 2
   },
   "file_extension": ".py",
   "mimetype": "text/x-python",
   "name": "python",
   "nbconvert_exporter": "python",
   "pygments_lexer": "ipython2",
   "version": "2.7.11"
  }
 },
 "nbformat": 4,
 "nbformat_minor": 0
}
